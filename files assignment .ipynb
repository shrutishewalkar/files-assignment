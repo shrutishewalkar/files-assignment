{
 "cells": [
  {
   "cell_type": "markdown",
   "id": "a13467dc-a297-43d3-b523-caf34ceaa8da",
   "metadata": {},
   "source": [
    "Que1: which fun is used to open file?what are the different modes of opening file?"
   ]
  },
  {
   "cell_type": "markdown",
   "id": "3be9cc9c-dfc5-469b-a793-bc71e5874755",
   "metadata": {},
   "source": [
    "Ans:open() function is used to open the file.\n",
    " r,w,x,a,b,+,u these are the modes in file.\n",
    " "
   ]
  },
  {
   "cell_type": "code",
   "execution_count": 1,
   "id": "b96045f7-f972-4222-93a6-9a34c795dd0e",
   "metadata": {},
   "outputs": [],
   "source": [
    "f=open(\"text.txt\" , 'w')"
   ]
  },
  {
   "cell_type": "code",
   "execution_count": 2,
   "id": "d4876af7-68d5-4984-bfaa-1ad2400fab2e",
   "metadata": {},
   "outputs": [
    {
     "data": {
      "text/plain": [
       "15"
      ]
     },
     "execution_count": 2,
     "metadata": {},
     "output_type": "execute_result"
    }
   ],
   "source": [
    "f.write(\"this is my file\")"
   ]
  },
  {
   "cell_type": "code",
   "execution_count": 3,
   "id": "7aba80a0-a669-4fc3-89f9-f655f917671c",
   "metadata": {},
   "outputs": [],
   "source": [
    "f.close()"
   ]
  },
  {
   "cell_type": "code",
   "execution_count": 6,
   "id": "4b826d9d-ff8e-47a9-a0d2-eb691aae10d7",
   "metadata": {},
   "outputs": [],
   "source": [
    "f=open(\"text.txt\" , 'a')"
   ]
  },
  {
   "cell_type": "code",
   "execution_count": 7,
   "id": "b77f90e9-0724-4e8b-ba2a-f976d5bdfa56",
   "metadata": {},
   "outputs": [
    {
     "data": {
      "text/plain": [
       "17"
      ]
     },
     "execution_count": 7,
     "metadata": {},
     "output_type": "execute_result"
    }
   ],
   "source": [
    "f.write(\"my name is shruti\")"
   ]
  },
  {
   "cell_type": "code",
   "execution_count": 8,
   "id": "d44fcbe8-5d48-4829-820e-f2c5da485604",
   "metadata": {},
   "outputs": [],
   "source": [
    "f.close()"
   ]
  },
  {
   "cell_type": "code",
   "execution_count": 10,
   "id": "68814874-756c-4403-a1b8-1a09854b6455",
   "metadata": {},
   "outputs": [],
   "source": [
    "data=open(\"text.txt\" , 'r')"
   ]
  },
  {
   "cell_type": "code",
   "execution_count": 11,
   "id": "aa3402c3-5d92-4782-b8e5-f9466114ef61",
   "metadata": {},
   "outputs": [
    {
     "data": {
      "text/plain": [
       "'this is my filemy name is shruti'"
      ]
     },
     "execution_count": 11,
     "metadata": {},
     "output_type": "execute_result"
    }
   ],
   "source": [
    "data.read()"
   ]
  },
  {
   "cell_type": "code",
   "execution_count": 19,
   "id": "a5ef7115-61e1-4ac7-ab1f-f75962220770",
   "metadata": {},
   "outputs": [],
   "source": [
    "with open(\"text2.bin\", \"wb\") as f:\n",
    "    f.write(b\"\\x01\\x02\\x0234567\")"
   ]
  },
  {
   "cell_type": "code",
   "execution_count": 23,
   "id": "3f71054c-d3ea-4cca-ad3f-dd66dfc1cc7f",
   "metadata": {},
   "outputs": [
    {
     "name": "stdout",
     "output_type": "stream",
     "text": [
      "b'\\x01\\x02\\x0234567'\n"
     ]
    }
   ],
   "source": [
    "with open(\"text2.bin\", \"rb\") as f:\n",
    "          print(f.read(34556))"
   ]
  },
  {
   "cell_type": "markdown",
   "id": "a890b61c-701f-430c-9fe3-edf039ce809d",
   "metadata": {},
   "source": [
    "Que 2: why close() fun is used?why it is imp to close a file?"
   ]
  },
  {
   "cell_type": "markdown",
   "id": "7b7c07f8-4ac0-4454-a77d-51ccd6b8153e",
   "metadata": {},
   "source": [
    "the close() function shall deallocate the file descriptor indicated by fildes.to deallocate means to make the file descriptor available for return by sebsequencet calls to open() or other fun that allocate file descriptors."
   ]
  },
  {
   "cell_type": "markdown",
   "id": "bbf00014-83d6-40e0-a6a5-5206c4fe3d89",
   "metadata": {},
   "source": [
    "close() fun is important because files are limited ressourses managed by the operating system,making suru files are closed after use will protect against hard-to-debug issues like running out of file handels or experianceing corrupted data.the best defence is always to open files with a context manager."
   ]
  },
  {
   "cell_type": "markdown",
   "id": "5e71bbf5-8322-470b-b0b0-1c43a9bfdb42",
   "metadata": {},
   "source": [
    "QUe3:write a python program to create atext file"
   ]
  },
  {
   "cell_type": "code",
   "execution_count": 27,
   "id": "08515e66-6980-4c82-abcb-004de848f3d8",
   "metadata": {},
   "outputs": [],
   "source": [
    "f=open(\"text.txt\" , 'w')"
   ]
  },
  {
   "cell_type": "code",
   "execution_count": 28,
   "id": "d5747c52-625b-4f3d-ac23-f1d47f816456",
   "metadata": {},
   "outputs": [
    {
     "data": {
      "text/plain": [
       "33"
      ]
     },
     "execution_count": 28,
     "metadata": {},
     "output_type": "execute_result"
    }
   ],
   "source": [
    "f.write(\"i want to become a Data scientist\")"
   ]
  },
  {
   "cell_type": "code",
   "execution_count": 29,
   "id": "d828b57c-4bb9-43d9-8679-eaa9372059b7",
   "metadata": {},
   "outputs": [],
   "source": [
    "f.close()"
   ]
  },
  {
   "cell_type": "markdown",
   "id": "91e912f1-c49b-4443-aa29-500539c58de5",
   "metadata": {},
   "source": [
    "Que 4 explain the python code read(),readline(),readlines()"
   ]
  },
  {
   "cell_type": "code",
   "execution_count": 37,
   "id": "32e78ab3-99e2-4b48-84fd-e783f00d8fa2",
   "metadata": {},
   "outputs": [],
   "source": [
    " f=open(\"text.txt\" , 'a')\n",
    "    \n"
   ]
  },
  {
   "cell_type": "code",
   "execution_count": 38,
   "id": "1edc433d-2f67-49de-800f-65500f63a66c",
   "metadata": {},
   "outputs": [
    {
     "data": {
      "text/plain": [
       "17"
      ]
     },
     "execution_count": 38,
     "metadata": {},
     "output_type": "execute_result"
    }
   ],
   "source": [
    "f.write(\"my name is shruti\")"
   ]
  },
  {
   "cell_type": "code",
   "execution_count": 39,
   "id": "b2a89679-44b1-4584-9fc2-8b983be320a1",
   "metadata": {},
   "outputs": [],
   "source": [
    "f.close()"
   ]
  },
  {
   "cell_type": "code",
   "execution_count": 40,
   "id": "835eedee-0f8a-4a11-a930-276fcd5f15fb",
   "metadata": {},
   "outputs": [],
   "source": [
    "data=open(\"text.txt\" ,'r')"
   ]
  },
  {
   "cell_type": "code",
   "execution_count": 41,
   "id": "ccb10be6-ef84-48a2-b479-6f83b8826739",
   "metadata": {},
   "outputs": [
    {
     "data": {
      "text/plain": [
       "'i want to become a Data scientistmy name is shruti'"
      ]
     },
     "execution_count": 41,
     "metadata": {},
     "output_type": "execute_result"
    }
   ],
   "source": [
    "data.read()"
   ]
  },
  {
   "cell_type": "code",
   "execution_count": 48,
   "id": "dfab89e7-a2c6-4052-a577-7b9a71b2f431",
   "metadata": {},
   "outputs": [
    {
     "data": {
      "text/plain": [
       "'wa'"
      ]
     },
     "execution_count": 48,
     "metadata": {},
     "output_type": "execute_result"
    }
   ],
   "source": [
    "data.readline(2)"
   ]
  },
  {
   "cell_type": "code",
   "execution_count": 47,
   "id": "dd895e94-0171-4e34-824d-6affc0a1ba0b",
   "metadata": {},
   "outputs": [
    {
     "data": {
      "text/plain": [
       "2"
      ]
     },
     "execution_count": 47,
     "metadata": {},
     "output_type": "execute_result"
    }
   ],
   "source": [
    "data.seek(2)"
   ]
  },
  {
   "cell_type": "code",
   "execution_count": 49,
   "id": "54dc6a75-f6ab-4332-97f9-8e94511bc08c",
   "metadata": {},
   "outputs": [
    {
     "data": {
      "text/plain": [
       "['nt to become a Data scientistmy name is shruti']"
      ]
     },
     "execution_count": 49,
     "metadata": {},
     "output_type": "execute_result"
    }
   ],
   "source": [
    "data.readlines()"
   ]
  },
  {
   "cell_type": "markdown",
   "id": "c3d840bf-9de7-4d95-b412-7c036e385211",
   "metadata": {},
   "source": [
    "Que5: explain why with statement is usd with open ().what is the adventage of using with statement and open()together."
   ]
  },
  {
   "cell_type": "markdown",
   "id": "2b918658-6938-4000-926f-944d9c9cd2a7",
   "metadata": {},
   "source": [
    "Ans: this methos is very handy when you have two related operations which you would like to execute as a pair ,with a block of code in betwwn."
   ]
  },
  {
   "cell_type": "code",
   "execution_count": 59,
   "id": "190bcc56-c067-422b-97ec-d40b325ae967",
   "metadata": {},
   "outputs": [
    {
     "name": "stdout",
     "output_type": "stream",
     "text": [
      "i want to become a Data scientistmy name is shruti\n"
     ]
    }
   ],
   "source": [
    "with open (\"text.txt\" ,'r') as f:\n",
    "    print(f.read())   \n"
   ]
  },
  {
   "cell_type": "markdown",
   "id": "d34977b3-0026-440b-ad29-8a242648d8e2",
   "metadata": {},
   "source": [
    "Que6: explain write() and writelines() fun"
   ]
  },
  {
   "cell_type": "markdown",
   "id": "334050b6-24dd-4288-b14d-c758dd5509ad",
   "metadata": {},
   "source": [
    "The write()method writes a specific text to the file.and write() fun is used to write a string to an already opened in file .\n",
    "The writelines() is uesd to write a list of string in an opened file."
   ]
  },
  {
   "cell_type": "code",
   "execution_count": 60,
   "id": "c502d73e-ad2f-4776-8048-98855e19f549",
   "metadata": {},
   "outputs": [],
   "source": [
    "f=open(\"text.txt\" ,'w')"
   ]
  },
  {
   "cell_type": "code",
   "execution_count": 61,
   "id": "7902b52f-a4f3-4438-a524-7edc42f2803e",
   "metadata": {},
   "outputs": [
    {
     "data": {
      "text/plain": [
       "32"
      ]
     },
     "execution_count": 61,
     "metadata": {},
     "output_type": "execute_result"
    }
   ],
   "source": [
    "f.write(\"this is first data science class\")"
   ]
  },
  {
   "cell_type": "code",
   "execution_count": 10,
   "id": "db8afeac-9e59-4473-82ac-ee45f4d3c076",
   "metadata": {},
   "outputs": [],
   "source": [
    "f.close()"
   ]
  },
  {
   "cell_type": "raw",
   "id": "760a9571-61e9-485b-ae42-b8417b111d2b",
   "metadata": {},
   "source": []
  },
  {
   "cell_type": "code",
   "execution_count": 11,
   "id": "e15970fd-b066-42d3-9fd4-e2a564fb50da",
   "metadata": {},
   "outputs": [],
   "source": [
    "f=open(\"demofils2.txt\" , 'a')"
   ]
  },
  {
   "cell_type": "code",
   "execution_count": 13,
   "id": "c5670c54-55af-43db-b96e-2c131dfd0bfd",
   "metadata": {},
   "outputs": [],
   "source": [
    "f.writelines([\"see u soon\",\"good by\"])"
   ]
  },
  {
   "cell_type": "code",
   "execution_count": 14,
   "id": "8c3330fc-9357-403e-ad1b-dc5a79fa4d6c",
   "metadata": {},
   "outputs": [],
   "source": [
    "f.close()\n"
   ]
  },
  {
   "cell_type": "code",
   "execution_count": 4,
   "id": "37de8fe3-5d96-45d2-8c25-08ed4c6e0e89",
   "metadata": {},
   "outputs": [
    {
     "name": "stdout",
     "output_type": "stream",
     "text": [
      "\n"
     ]
    }
   ],
   "source": []
  },
  {
   "cell_type": "code",
   "execution_count": null,
   "id": "fb01cf69-6dfe-41c7-a281-7681337fb602",
   "metadata": {},
   "outputs": [],
   "source": []
  }
 ],
 "metadata": {
  "kernelspec": {
   "display_name": "Python 3 (ipykernel)",
   "language": "python",
   "name": "python3"
  },
  "language_info": {
   "codemirror_mode": {
    "name": "ipython",
    "version": 3
   },
   "file_extension": ".py",
   "mimetype": "text/x-python",
   "name": "python",
   "nbconvert_exporter": "python",
   "pygments_lexer": "ipython3",
   "version": "3.10.8"
  }
 },
 "nbformat": 4,
 "nbformat_minor": 5
}
